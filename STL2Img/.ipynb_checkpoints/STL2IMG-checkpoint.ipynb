{
 "cells": [
  {
   "cell_type": "code",
   "execution_count": 40,
   "metadata": {
    "collapsed": false
   },
   "outputs": [],
   "source": [
    "import os\n",
    "import time\n",
    "import vtk\n",
    "\n",
    "difficultyArray = [1,3,6,5,7,8,7,5,6,3,1]\n",
    "difficultyLevel = len(difficultyArray)\n",
    "verticalRotAngle = 180 / float(difficultyLevel -1)\n",
    "horizontalRotAngle = [float(360) / x for x in difficultyArray]\n",
    "\n",
    "def screenshot(filename):\n",
    "    # screenshot code:\n",
    "    w2if = vtk.vtkWindowToImageFilter()\n",
    "    w2if.SetInput(renderWindow)\n",
    "    w2if.Update()\n",
    "    \n",
    "    writer = vtk.vtkPNGWriter()\n",
    "    writer.SetFileName(filename)\n",
    "    writer.SetInput(w2if.GetOutput())\n",
    "    writer.Write()"
   ]
  },
  {
   "cell_type": "code",
   "execution_count": 41,
   "metadata": {
    "collapsed": false
   },
   "outputs": [],
   "source": [
    "filename = \"rod2.stl\"\n",
    " \n",
    "reader = vtk.vtkSTLReader()\n",
    "reader.SetFileName(filename)"
   ]
  },
  {
   "cell_type": "code",
   "execution_count": 42,
   "metadata": {
    "collapsed": true
   },
   "outputs": [],
   "source": [
    "polydata = vtk.vtkPolyData()\n",
    "polydata = reader.GetOutput()\n",
    "polydata.Update()\n",
    "xmin, xmax, ymin, ymax, zmin, zmax = polydata.GetBounds()\n",
    "\n",
    "dx = (xmax + xmin) / 2\n",
    "dy = (ymax + ymin) / 2\n",
    "dz = (zmax + zmin) / 2"
   ]
  },
  {
   "cell_type": "code",
   "execution_count": 43,
   "metadata": {
    "collapsed": false
   },
   "outputs": [],
   "source": [
    "mapper = vtk.vtkPolyDataMapper()\n",
    "if vtk.VTK_MAJOR_VERSION <= 5:\n",
    "    mapper.SetInput(reader.GetOutput())\n",
    "else:\n",
    "    mapper.SetInputConnection(reader.GetOutputPort())"
   ]
  },
  {
   "cell_type": "code",
   "execution_count": 56,
   "metadata": {
    "collapsed": false
   },
   "outputs": [],
   "source": [
    "camera = vtk.vtkCamera ();\n",
    "camera.SetPosition(0,0,1);\n",
    "camera.dolly(0.9)\n",
    "camera.SetFocalPoint(0, 0, 0);\n",
    "camera.SetParallelProjection(1)"
   ]
  },
  {
   "cell_type": "code",
   "execution_count": 57,
   "metadata": {
    "collapsed": true
   },
   "outputs": [],
   "source": [
    "# Create a rendering window and renderer\n",
    "renderer = vtk.vtkRenderer()\n",
    "renderer.SetActiveCamera(camera);\n",
    "renderWindow  = vtk.vtkRenderWindow()\n",
    "renderWindow.AddRenderer(renderer)\n",
    "renderWindow.SetSize(800,800)"
   ]
  },
  {
   "cell_type": "code",
   "execution_count": 58,
   "metadata": {
    "collapsed": true
   },
   "outputs": [],
   "source": [
    "# create a renderwindowinteractor\n",
    "interactiveRenderer = vtk.vtkRenderWindowInteractor()\n",
    "interactiveRenderer.SetRenderWindow(renderWindow)"
   ]
  },
  {
   "cell_type": "code",
   "execution_count": 59,
   "metadata": {
    "collapsed": false
   },
   "outputs": [],
   "source": [
    "actor = vtk.vtkActor()\n",
    "actor.SetMapper(mapper)\n",
    "actor.GetProperty().SetDiffuseColor(0,0,0)\n",
    "actor.SetOrigin(dx,dy,dz)"
   ]
  },
  {
   "cell_type": "code",
   "execution_count": 60,
   "metadata": {
    "collapsed": false
   },
   "outputs": [],
   "source": [
    "# Assign actor to the renderer\n",
    "renderer.SetBackground(1,1,1)\n",
    "renderer.AddActor(actor)\n",
    "renderer.ResetCamera()\n",
    "\n",
    "renderWindow.Render()"
   ]
  },
  {
   "cell_type": "code",
   "execution_count": null,
   "metadata": {
    "collapsed": false
   },
   "outputs": [],
   "source": [
    "outputName = \"rod2_\"\n",
    "outputExt = \".png\"\n",
    "counter = 1\n",
    "\n",
    "for i in range(0, difficultyLevel):\n",
    "    for x in range(0, difficultyArray[i]):\n",
    "        screenshot(outputName + str(i) + \"_\" + str(x) + outputExt)\n",
    "        actor.RotateZ(horizontalRotAngle[i])\n",
    "        time.sleep(1)\n",
    "        counter += 1\n",
    "    actor.RotateX(verticalRotAngle)"
   ]
  },
  {
   "cell_type": "code",
   "execution_count": null,
   "metadata": {
    "collapsed": true
   },
   "outputs": [],
   "source": [
    "actor.RotateZ(20)\n",
    "actor.RotateY(20)\n",
    "actor.RotateX(20)\n",
    "renderWindow.Render()"
   ]
  },
  {
   "cell_type": "code",
   "execution_count": null,
   "metadata": {
    "collapsed": false
   },
   "outputs": [],
   "source": [
    "# enable user interface interactor\n",
    "interactiveRenderer.Initialize()\n",
    "interactiveRenderer.Start()"
   ]
  },
  {
   "cell_type": "code",
   "execution_count": null,
   "metadata": {
    "collapsed": true
   },
   "outputs": [],
   "source": []
  },
  {
   "cell_type": "code",
   "execution_count": null,
   "metadata": {
    "collapsed": true
   },
   "outputs": [],
   "source": []
  }
 ],
 "metadata": {
  "kernelspec": {
   "display_name": "Python 2",
   "language": "python",
   "name": "python2"
  },
  "language_info": {
   "codemirror_mode": {
    "name": "ipython",
    "version": 2
   },
   "file_extension": ".py",
   "mimetype": "text/x-python",
   "name": "python",
   "nbconvert_exporter": "python",
   "pygments_lexer": "ipython2",
   "version": "2.7.9"
  }
 },
 "nbformat": 4,
 "nbformat_minor": 0
}
