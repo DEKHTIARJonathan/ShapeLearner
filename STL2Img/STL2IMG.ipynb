{
 "cells": [
  {
   "cell_type": "code",
   "execution_count": 17,
   "metadata": {
    "collapsed": false
   },
   "outputs": [],
   "source": [
    "import os\n",
    "import time\n",
    "import vtk\n",
    "\n",
    "precision = [\"Low\", \"Medium\", \"High\", \"Extreme\", \"Ultimate\"]\n",
    "\n",
    "difficulty = dict()\n",
    "difficulty[\"Low\"] = [1,4,1]\n",
    "difficulty[\"Medium\"] = [1,3,4,3,1]\n",
    "difficulty[\"High\"] = [1,3,6,8,6,3,1]\n",
    "difficulty[\"Extreme\"] = [1,3,5,6,8,6,5,3,1]\n",
    "difficulty[\"Ultimate\"] = [1,3,5,6,7,8,7,6,5,3,1]\n",
    "difficultyArray = [1,3,6,5,7,8,7,5,6,3,1]\n",
    "\n",
    "precisionLevel = precision[1]\n",
    "\n",
    "difficultyArray = difficulty[precisionLevel]\n",
    "\n",
    "difficultyLevel = len(difficultyArray)\n",
    "verticalRotAngle = 180 / float(difficultyLevel -1)\n",
    "horizontalRotAngle = [float(360) / x for x in difficultyArray]\n",
    "\n",
    "def screenshot(filename):\n",
    "    # screenshot code:\n",
    "    w2if = vtk.vtkWindowToImageFilter()\n",
    "    w2if.SetInput(renderWindow)\n",
    "    w2if.Update()\n",
    "    \n",
    "    writer = vtk.vtkPNGWriter()\n",
    "    writer.SetFileName(filename)\n",
    "    writer.SetInput(w2if.GetOutput())\n",
    "    writer.Write()"
   ]
  },
  {
   "cell_type": "code",
   "execution_count": 39,
   "metadata": {
    "collapsed": false
   },
   "outputs": [],
   "source": [
    "filename = \"inputs/PistonAssembly/assembly1.stl\"\n",
    " \n",
    "reader = vtk.vtkSTLReader()\n",
    "reader.SetFileName(filename)"
   ]
  },
  {
   "cell_type": "code",
   "execution_count": 40,
   "metadata": {
    "collapsed": false
   },
   "outputs": [
    {
     "name": "stdout",
     "output_type": "stream",
     "text": [
      "['PistonAssembly', 'Rod']\n"
     ]
    }
   ],
   "source": [
    "dirs = os.listdir(\"inputs\")\n",
    "\n",
    "print dirs"
   ]
  },
  {
   "cell_type": "code",
   "execution_count": 41,
   "metadata": {
    "collapsed": true
   },
   "outputs": [],
   "source": [
    "polydata = vtk.vtkPolyData()\n",
    "polydata = reader.GetOutput()\n",
    "polydata.Update()\n",
    "xmin, xmax, ymin, ymax, zmin, zmax = polydata.GetBounds()\n",
    "\n",
    "dx = (xmax + xmin) / 2\n",
    "dy = (ymax + ymin) / 2\n",
    "dz = (zmax + zmin) / 2"
   ]
  },
  {
   "cell_type": "code",
   "execution_count": 42,
   "metadata": {
    "collapsed": false
   },
   "outputs": [],
   "source": [
    "mapper = vtk.vtkPolyDataMapper()\n",
    "if vtk.VTK_MAJOR_VERSION <= 5:\n",
    "    mapper.SetInput(reader.GetOutput())\n",
    "else:\n",
    "    mapper.SetInputConnection(reader.GetOutputPort())"
   ]
  },
  {
   "cell_type": "code",
   "execution_count": 43,
   "metadata": {
    "collapsed": false
   },
   "outputs": [],
   "source": [
    "camera = vtk.vtkCamera();\n",
    "camera.SetPosition(0,0,1);\n",
    "camera.SetFocalPoint(0, 0, 0);\n",
    "camera.SetParallelProjection(1)"
   ]
  },
  {
   "cell_type": "code",
   "execution_count": 44,
   "metadata": {
    "collapsed": false
   },
   "outputs": [],
   "source": [
    "# Create a rendering window and renderer\n",
    "renderer = vtk.vtkRenderer()\n",
    "renderer.SetActiveCamera(camera);\n",
    "renderWindow  = vtk.vtkRenderWindow()\n",
    "renderWindow.AddRenderer(renderer)\n",
    "renderWindow.SetSize(800,800)"
   ]
  },
  {
   "cell_type": "code",
   "execution_count": 45,
   "metadata": {
    "collapsed": false
   },
   "outputs": [],
   "source": [
    "# create a renderwindowinteractor\n",
    "interactiveRenderer = vtk.vtkRenderWindowInteractor()\n",
    "interactiveRenderer.SetRenderWindow(renderWindow)"
   ]
  },
  {
   "cell_type": "code",
   "execution_count": 46,
   "metadata": {
    "collapsed": false
   },
   "outputs": [],
   "source": [
    "actor = vtk.vtkActor()\n",
    "actor.SetMapper(mapper)\n",
    "actor.GetProperty().SetDiffuseColor(0,0,0)\n",
    "actor.SetOrigin(dx,dy,dz)"
   ]
  },
  {
   "cell_type": "code",
   "execution_count": 47,
   "metadata": {
    "collapsed": false
   },
   "outputs": [],
   "source": [
    "# Assign actor to the renderer\n",
    "renderer.SetBackground(1,1,1)\n",
    "renderer.AddActor(actor)\n",
    "renderer.ResetCamera()\n",
    "\n",
    "renderWindow.Render()"
   ]
  },
  {
   "cell_type": "code",
   "execution_count": 48,
   "metadata": {
    "collapsed": false
   },
   "outputs": [],
   "source": [
    "foldername = \"outputs\"\n",
    "subfolder = \"PistonAssembly\"\n",
    "outdir = foldername + \"/\" + subfolder\n",
    "\n",
    "if not os.path.isdir(outdir):\n",
    "    os.makedirs(outdir) \n",
    "\n",
    "objName = \"assembly\"\n",
    "outputName = outdir + \"/\" + objName + \"_\"\n",
    "    \n",
    "outputExt = \".png\"\n",
    "counter = 1\n",
    "\n",
    "for i in range(0, difficultyLevel):\n",
    "    for x in range(0, difficultyArray[i]):\n",
    "        renderer.ResetCameraClippingRange()\n",
    "        screenshot(outputName + str(i) + \"_\" + str(x) + outputExt)\n",
    "        actor.RotateZ(horizontalRotAngle[i])\n",
    "        counter += 1\n",
    "    actor.RotateX(verticalRotAngle)"
   ]
  },
  {
   "cell_type": "code",
   "execution_count": 11,
   "metadata": {
    "collapsed": false
   },
   "outputs": [],
   "source": [
    "# enable user interface interactor\n",
    "interactiveRenderer.Initialize()\n",
    "interactiveRenderer.Start()"
   ]
  },
  {
   "cell_type": "code",
   "execution_count": null,
   "metadata": {
    "collapsed": true
   },
   "outputs": [],
   "source": []
  }
 ],
 "metadata": {
  "kernelspec": {
   "display_name": "Python 2",
   "language": "python",
   "name": "python2"
  },
  "language_info": {
   "codemirror_mode": {
    "name": "ipython",
    "version": 2
   },
   "file_extension": ".py",
   "mimetype": "text/x-python",
   "name": "python",
   "nbconvert_exporter": "python",
   "pygments_lexer": "ipython2",
   "version": "2.7.9"
  }
 },
 "nbformat": 4,
 "nbformat_minor": 0
}
