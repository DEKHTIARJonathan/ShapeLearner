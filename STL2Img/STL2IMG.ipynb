{
 "cells": [
  {
   "cell_type": "code",
   "execution_count": 1,
   "metadata": {
    "collapsed": true
   },
   "outputs": [],
   "source": [
    "%gui qt"
   ]
  },
  {
   "cell_type": "code",
   "execution_count": 12,
   "metadata": {
    "collapsed": false
   },
   "outputs": [],
   "source": [
    "import os\n",
    "import vtk\n",
    "import time\n",
    "\n",
    "difficultyArray = [1,6,8,6,1]\n",
    "difficultyLevel = len(difficultyArray)\n",
    "verticalRotAngle = 180 / float(difficultyLevel -1)\n",
    "horizontalRotAngle = [float(360) / x for x in difficultyArray]\n",
    "\n",
    "def screenshot(filename):\n",
    "    # screenshot code:\n",
    "    w2if = vtk.vtkWindowToImageFilter()\n",
    "    w2if.SetInput(renderWindow)\n",
    "    w2if.Update()\n",
    "    \n",
    "    writer = vtk.vtkPNGWriter()\n",
    "    writer.SetFileName(filename)\n",
    "    writer.SetInput(w2if.GetOutput())\n",
    "    writer.Write()"
   ]
  },
  {
   "cell_type": "code",
   "execution_count": 13,
   "metadata": {
    "collapsed": false
   },
   "outputs": [],
   "source": [
    "filename = \"rod2.stl\"\n",
    " \n",
    "reader = vtk.vtkSTLReader()\n",
    "reader.SetFileName(filename)"
   ]
  },
  {
   "cell_type": "code",
   "execution_count": 14,
   "metadata": {
    "collapsed": true
   },
   "outputs": [],
   "source": [
    "polydata = vtk.vtkPolyData()\n",
    "polydata = reader.GetOutput()\n",
    "polydata.Update()\n",
    "xmin, xmax, ymin, ymax, zmin, zmax = polydata.GetBounds()\n",
    "\n",
    "dx = (xmax + xmin) / 2\n",
    "dy = (ymax + ymin) / 2\n",
    "dz = (zmax + zmin) / 2"
   ]
  },
  {
   "cell_type": "code",
   "execution_count": 15,
   "metadata": {
    "collapsed": false
   },
   "outputs": [],
   "source": [
    "mapper = vtk.vtkPolyDataMapper()\n",
    "if vtk.VTK_MAJOR_VERSION <= 5:\n",
    "    mapper.SetInput(reader.GetOutput())\n",
    "else:\n",
    "    mapper.SetInputConnection(reader.GetOutputPort())"
   ]
  },
  {
   "cell_type": "code",
   "execution_count": 16,
   "metadata": {
    "collapsed": false
   },
   "outputs": [],
   "source": [
    "actor = vtk.vtkActor()\n",
    "actor.SetMapper(mapper)\n",
    "actor.GetProperty().SetDiffuseColor(0,0,0)\n",
    "actor.SetOrigin(dx,dy,dz)"
   ]
  },
  {
   "cell_type": "code",
   "execution_count": 17,
   "metadata": {
    "collapsed": false
   },
   "outputs": [],
   "source": [
    "camera = vtk.vtkCamera ();\n",
    "camera.SetPosition(0, 0,100);\n",
    "camera.SetFocalPoint(0, 0, 0);\n",
    "camera.SetParallelProjection(1)"
   ]
  },
  {
   "cell_type": "code",
   "execution_count": 18,
   "metadata": {
    "collapsed": true
   },
   "outputs": [],
   "source": [
    "# Create a rendering window and renderer\n",
    "renderer = vtk.vtkRenderer()\n",
    "renderer.SetActiveCamera(camera);\n",
    "renderWindow  = vtk.vtkRenderWindow()\n",
    "renderWindow.AddRenderer(renderer)\n",
    "renderWindow.SetSize(800,800)"
   ]
  },
  {
   "cell_type": "code",
   "execution_count": 19,
   "metadata": {
    "collapsed": true
   },
   "outputs": [],
   "source": [
    "# create a renderwindowinteractor\n",
    "interactiveRenderer = vtk.vtkRenderWindowInteractor()\n",
    "interactiveRenderer.SetRenderWindow(renderWindow)"
   ]
  },
  {
   "cell_type": "code",
   "execution_count": 20,
   "metadata": {
    "collapsed": false
   },
   "outputs": [],
   "source": [
    "# Assign actor to the renderer\n",
    "renderer.SetBackground(1,1,1)\n",
    "renderer.AddActor(actor)\n",
    "renderer.ResetCamera()\n",
    "\n",
    "renderWindow.Render()"
   ]
  },
  {
   "cell_type": "code",
   "execution_count": 22,
   "metadata": {
    "collapsed": false
   },
   "outputs": [],
   "source": [
    "outputName = \"view_\"\n",
    "outputExt = \".png\"\n",
    "counter = 1\n",
    "\n",
    "for i in range(0, difficultyLevel):\n",
    "    for x in range(0, difficultyArray[i]):\n",
    "        screenshot(outputName + str(counter) + outputExt)\n",
    "        time.sleep( 1 )\n",
    "        actor.RotateZ(horizontalRotAngle[i])\n",
    "        counter += 1\n",
    "    actor.RotateX(verticalRotAngle)"
   ]
  },
  {
   "cell_type": "code",
   "execution_count": null,
   "metadata": {
    "collapsed": false
   },
   "outputs": [],
   "source": [
    "# enable user interface interactor\n",
    "interactiveRenderer.Initialize()\n",
    "interactiveRenderer.Start()"
   ]
  }
 ],
 "metadata": {
  "kernelspec": {
   "display_name": "Python 2",
   "language": "python",
   "name": "python2"
  },
  "language_info": {
   "codemirror_mode": {
    "name": "ipython",
    "version": 2
   },
   "file_extension": ".py",
   "mimetype": "text/x-python",
   "name": "python",
   "nbconvert_exporter": "python",
   "pygments_lexer": "ipython2",
   "version": "2.7.9"
  }
 },
 "nbformat": 4,
 "nbformat_minor": 0
}
